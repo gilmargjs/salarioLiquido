{
 "cells": [
  {
   "cell_type": "code",
   "execution_count": 1,
   "id": "seven-asbestos",
   "metadata": {},
   "outputs": [
    {
     "name": "stdout",
     "output_type": "stream",
     "text": [
      "DESCUBRA O VALOR LIQUIDO DO SEU SALÁRIO\n",
      "\n",
      "Desconto INSS\n",
      "\n",
      "Digite o Valor do Seu Salário Bruto R$ :1100\n",
      "82.5\n"
     ]
    }
   ],
   "source": [
    "print('DESCUBRA O VALOR LIQUIDO DO SEU SALÁRIO\\n')\n",
    "print('Desconto INSS\\n')\n",
    "sal = float(input(\"Digite o Valor do Seu Salário Bruto R$ :\"))\n",
    "\n",
    "if sal <= 1100:\n",
    "    desc_inss = sal * 7.5 / 100\n",
    "    print(desc_inss);\n",
    "    \n",
    "elif sal >=1100.01 and sal <= 2203.48:\n",
    "    desc_inss = sal * 9.0 / 100\n",
    "    print(desc_inss)\n",
    "    \n",
    "elif sal >= 2203.49 and sal <= 3305.22:\n",
    "    desc_inss = sal * 12 / 100\n",
    "    print(desc_inss)\n",
    "    \n",
    "elif sal >= 3305.23 and sal <= 6433.57:\n",
    "    desc_inss = sal * 14 / 100\n",
    "    print(desc_inss)"
   ]
  },
  {
   "cell_type": "code",
   "execution_count": 2,
   "id": "interpreted-pencil",
   "metadata": {},
   "outputs": [
    {
     "name": "stdout",
     "output_type": "stream",
     "text": [
      "Desconto Alimantação\n",
      "\n",
      "220.0\n"
     ]
    }
   ],
   "source": [
    "print('Desconto Alimantação\\n')\n",
    "desc_ali = sal * 20 / 100\n",
    "print(desc_ali)"
   ]
  },
  {
   "cell_type": "code",
   "execution_count": 3,
   "id": "acquired-produce",
   "metadata": {},
   "outputs": [
    {
     "name": "stdout",
     "output_type": "stream",
     "text": [
      "Desconto Vale Transporte\n",
      "66.0\n"
     ]
    }
   ],
   "source": [
    "print('Desconto Vale Transporte')\n",
    "desc_trans = sal * 6 / 100\n",
    "print(desc_trans)"
   ]
  },
  {
   "cell_type": "code",
   "execution_count": 4,
   "id": "textile-anthony",
   "metadata": {},
   "outputs": [
    {
     "name": "stdout",
     "output_type": "stream",
     "text": [
      "Total dos Descontos na Folha\n",
      "368.5\n"
     ]
    }
   ],
   "source": [
    "print('Total dos Descontos na Folha')\n",
    "total_desc = desc_inss + desc_ali + desc_trans\n",
    "print(total_desc)"
   ]
  },
  {
   "cell_type": "code",
   "execution_count": 5,
   "id": "organic-commitment",
   "metadata": {},
   "outputs": [
    {
     "name": "stdout",
     "output_type": "stream",
     "text": [
      "Salario Liquido\n",
      "731.5\n"
     ]
    }
   ],
   "source": [
    "print('Salario Liquido')\n",
    "sal_liq = sal - total_desc\n",
    "print(sal_liq)"
   ]
  }
 ],
 "metadata": {
  "kernelspec": {
   "display_name": "Python 3",
   "language": "python",
   "name": "python3"
  },
  "language_info": {
   "codemirror_mode": {
    "name": "ipython",
    "version": 3
   },
   "file_extension": ".py",
   "mimetype": "text/x-python",
   "name": "python",
   "nbconvert_exporter": "python",
   "pygments_lexer": "ipython3",
   "version": "3.9.1"
  }
 },
 "nbformat": 4,
 "nbformat_minor": 5
}
